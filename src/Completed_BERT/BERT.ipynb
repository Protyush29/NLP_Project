{
  "nbformat": 4,
  "nbformat_minor": 0,
  "metadata": {
    "accelerator": "GPU",
    "colab": {
      "name": "BERT_google.ipynb",
      "provenance": [],
      "collapsed_sections": []
    },
    "kernelspec": {
      "display_name": "Python3 (anargh)",
      "language": "python",
      "name": "anargh_env"
    },
    "language_info": {
      "codemirror_mode": {
        "name": "ipython",
        "version": 3
      },
      "file_extension": ".py",
      "mimetype": "text/x-python",
      "name": "python",
      "nbconvert_exporter": "python",
      "pygments_lexer": "ipython3",
      "version": "3.7.7"
    }
  },
  "cells": [
    {
      "cell_type": "markdown",
      "metadata": {
        "id": "0ouaMMCknQ2q",
        "colab_type": "text"
      },
      "source": [
        "## Installing and importing necessay Packages"
      ]
    },
    {
      "cell_type": "code",
      "metadata": {
        "colab_type": "code",
        "id": "7mSQBhTaN99P",
        "colab": {
          "base_uri": "https://localhost:8080/",
          "height": 35
        },
        "outputId": "2638dfa7-f0fb-44e9-c8ec-dfeeb88a8377"
      },
      "source": [
        "!pip install tqdm"
      ],
      "execution_count": 78,
      "outputs": [
        {
          "output_type": "stream",
          "text": [
            "Requirement already satisfied: tqdm in /usr/local/lib/python3.6/dist-packages (4.41.1)\n"
          ],
          "name": "stdout"
        }
      ]
    },
    {
      "cell_type": "code",
      "metadata": {
        "colab_type": "code",
        "id": "HI8wTlBuOCh2",
        "colab": {
          "base_uri": "https://localhost:8080/",
          "height": 107
        },
        "outputId": "e807a18c-083f-4823-f9df-27798b55e98d"
      },
      "source": [
        "!pip install bert-for-tf2"
      ],
      "execution_count": 79,
      "outputs": [
        {
          "output_type": "stream",
          "text": [
            "Requirement already satisfied: bert-for-tf2 in /usr/local/lib/python3.6/dist-packages (0.14.4)\n",
            "Requirement already satisfied: params-flow>=0.8.0 in /usr/local/lib/python3.6/dist-packages (from bert-for-tf2) (0.8.2)\n",
            "Requirement already satisfied: py-params>=0.9.6 in /usr/local/lib/python3.6/dist-packages (from bert-for-tf2) (0.9.7)\n",
            "Requirement already satisfied: numpy in /usr/local/lib/python3.6/dist-packages (from params-flow>=0.8.0->bert-for-tf2) (1.18.5)\n",
            "Requirement already satisfied: tqdm in /usr/local/lib/python3.6/dist-packages (from params-flow>=0.8.0->bert-for-tf2) (4.41.1)\n"
          ],
          "name": "stdout"
        }
      ]
    },
    {
      "cell_type": "code",
      "metadata": {
        "colab_type": "code",
        "id": "Wpad4nF9OFBw",
        "colab": {
          "base_uri": "https://localhost:8080/",
          "height": 35
        },
        "outputId": "f0259527-8914-436f-96bb-d9254b469d9a"
      },
      "source": [
        "!pip install sentencepiece"
      ],
      "execution_count": 80,
      "outputs": [
        {
          "output_type": "stream",
          "text": [
            "Requirement already satisfied: sentencepiece in /usr/local/lib/python3.6/dist-packages (0.1.91)\n"
          ],
          "name": "stdout"
        }
      ]
    },
    {
      "cell_type": "code",
      "metadata": {
        "colab_type": "code",
        "id": "uUciAeEPOMvY",
        "colab": {}
      },
      "source": [
        "import os\n",
        "import math\n",
        "import datetime\n",
        "\n",
        "from tqdm import tqdm\n",
        "\n",
        "import pandas as pd\n",
        "import numpy as np\n",
        "\n",
        "import tensorflow as tf\n",
        "from tensorflow import keras\n",
        "\n",
        "import bert\n",
        "from bert import BertModelLayer\n",
        "from bert.loader import StockBertConfig, map_stock_config_to_params, load_stock_weights\n",
        "from bert.tokenization.bert_tokenization import FullTokenizer\n",
        "\n",
        "import seaborn as sns\n",
        "from pylab import rcParams\n",
        "import matplotlib.pyplot as plt\n",
        "from matplotlib.ticker import MaxNLocator\n",
        "from matplotlib import rc\n",
        "\n",
        "from sklearn.metrics import confusion_matrix, classification_report"
      ],
      "execution_count": 81,
      "outputs": []
    },
    {
      "cell_type": "code",
      "metadata": {
        "colab_type": "code",
        "id": "CA-i7MvrYQDR",
        "colab": {}
      },
      "source": [
        "# if 'COLAB_TPU_ADDR' not in os.environ: \n",
        "#   print('Not connected to TPU') \n",
        "# else: \n",
        "#   print(\"Connected to TPU\") "
      ],
      "execution_count": 82,
      "outputs": []
    },
    {
      "cell_type": "markdown",
      "metadata": {
        "id": "hdof8cvBmzFf",
        "colab_type": "text"
      },
      "source": [
        "## Getting Data\n"
      ]
    },
    {
      "cell_type": "code",
      "metadata": {
        "colab_type": "code",
        "id": "0_S2vyKPOTL2",
        "colab": {}
      },
      "source": [
        "### Dataset too large for training\n",
        "# train = pd.read_csv(\"Train.csv\")\n",
        "# train = pd.read_csv(\"Valid.csv\")\n",
        "# test = pd.read_csv(\"Test.csv\")\n",
        "\n",
        "### Taking only \n",
        "train = pd.read_csv(\"Test.csv\")\n",
        "test = pd.read_csv(\"Valid.csv\")"
      ],
      "execution_count": 83,
      "outputs": []
    },
    {
      "cell_type": "code",
      "metadata": {
        "colab_type": "code",
        "id": "Ksc9eFNaOvu2",
        "colab": {}
      },
      "source": [
        "# train = train.append(valid).reset_index(drop=True)"
      ],
      "execution_count": 84,
      "outputs": []
    },
    {
      "cell_type": "markdown",
      "metadata": {
        "id": "TpIL0yPjnLJa",
        "colab_type": "text"
      },
      "source": [
        "## Data visualisation"
      ]
    },
    {
      "cell_type": "code",
      "metadata": {
        "colab_type": "code",
        "id": "iOzZtIxdO9eA",
        "colab": {
          "base_uri": "https://localhost:8080/",
          "height": 35
        },
        "outputId": "55b6eb2e-28bb-4bbc-e038-40ae84a1ba9d"
      },
      "source": [
        "train.shape\n"
      ],
      "execution_count": 85,
      "outputs": [
        {
          "output_type": "execute_result",
          "data": {
            "text/plain": [
              "(5000, 2)"
            ]
          },
          "metadata": {
            "tags": []
          },
          "execution_count": 85
        }
      ]
    },
    {
      "cell_type": "code",
      "metadata": {
        "colab_type": "code",
        "id": "IESsFEq9PAzx",
        "colab": {
          "base_uri": "https://localhost:8080/",
          "height": 204
        },
        "outputId": "c426396f-e57a-40de-be6f-80ffbac794bb"
      },
      "source": [
        "train.head()"
      ],
      "execution_count": 86,
      "outputs": [
        {
          "output_type": "execute_result",
          "data": {
            "text/html": [
              "<div>\n",
              "<style scoped>\n",
              "    .dataframe tbody tr th:only-of-type {\n",
              "        vertical-align: middle;\n",
              "    }\n",
              "\n",
              "    .dataframe tbody tr th {\n",
              "        vertical-align: top;\n",
              "    }\n",
              "\n",
              "    .dataframe thead th {\n",
              "        text-align: right;\n",
              "    }\n",
              "</style>\n",
              "<table border=\"1\" class=\"dataframe\">\n",
              "  <thead>\n",
              "    <tr style=\"text-align: right;\">\n",
              "      <th></th>\n",
              "      <th>text</th>\n",
              "      <th>label</th>\n",
              "    </tr>\n",
              "  </thead>\n",
              "  <tbody>\n",
              "    <tr>\n",
              "      <th>0</th>\n",
              "      <td>I always wrote this series off as being a comp...</td>\n",
              "      <td>0</td>\n",
              "    </tr>\n",
              "    <tr>\n",
              "      <th>1</th>\n",
              "      <td>1st watched 12/7/2002 - 3 out of 10(Dir-Steve ...</td>\n",
              "      <td>0</td>\n",
              "    </tr>\n",
              "    <tr>\n",
              "      <th>2</th>\n",
              "      <td>This movie was so poorly written and directed ...</td>\n",
              "      <td>0</td>\n",
              "    </tr>\n",
              "    <tr>\n",
              "      <th>3</th>\n",
              "      <td>The most interesting thing about Miryang (Secr...</td>\n",
              "      <td>1</td>\n",
              "    </tr>\n",
              "    <tr>\n",
              "      <th>4</th>\n",
              "      <td>when i first read about \"berlin am meer\" i did...</td>\n",
              "      <td>0</td>\n",
              "    </tr>\n",
              "  </tbody>\n",
              "</table>\n",
              "</div>"
            ],
            "text/plain": [
              "                                                text  label\n",
              "0  I always wrote this series off as being a comp...      0\n",
              "1  1st watched 12/7/2002 - 3 out of 10(Dir-Steve ...      0\n",
              "2  This movie was so poorly written and directed ...      0\n",
              "3  The most interesting thing about Miryang (Secr...      1\n",
              "4  when i first read about \"berlin am meer\" i did...      0"
            ]
          },
          "metadata": {
            "tags": []
          },
          "execution_count": 86
        }
      ]
    },
    {
      "cell_type": "code",
      "metadata": {
        "colab_type": "code",
        "id": "p8GYM_aqPpoQ",
        "colab": {
          "base_uri": "https://localhost:8080/",
          "height": 295
        },
        "outputId": "81c1dbbe-bd74-46b9-aa25-c44f014f05b3"
      },
      "source": [
        "chart = sns.countplot(train.label)\n",
        "plt.title(\"Number of texts per label - Train Data\")\n",
        "chart.set_xticklabels(chart.get_xticklabels());"
      ],
      "execution_count": 87,
      "outputs": [
        {
          "output_type": "display_data",
          "data": {
            "image/png": "[encoded data removed]",
            "text/plain": [
              "<Figure size 432x288 with 1 Axes>"
            ]
          },
          "metadata": {
            "tags": [],
            "needs_background": "light"
          }
        }
      ]
    },
    {
      "cell_type": "code",
      "metadata": {
        "id": "12gIdvckmfpF",
        "colab_type": "code",
        "colab": {
          "base_uri": "https://localhost:8080/",
          "height": 295
        },
        "outputId": "44c37a5d-a65f-4737-a5e8-9a8a693bd96f"
      },
      "source": [
        "chart = sns.countplot(test.label)\n",
        "plt.title(\"Number of texts per label - Test Data\")\n",
        "chart.set_xticklabels(chart.get_xticklabels());"
      ],
      "execution_count": 88,
      "outputs": [
        {
          "output_type": "display_data",
          "data": {
            "image/png": "[encoded data removed]",
            "text/plain": [
              "<Figure size 432x288 with 1 Axes>"
            ]
          },
          "metadata": {
            "tags": [],
            "needs_background": "light"
          }
        }
      ]
    },
    {
      "cell_type": "markdown",
      "metadata": {
        "id": "kIkoF-q6naZe",
        "colab_type": "text"
      },
      "source": [
        "## Getting Pre-trained BERT weights from Google"
      ]
    },
    {
      "cell_type": "code",
      "metadata": {
        "colab_type": "code",
        "id": "2iXPm264QIlH",
        "colab": {
          "base_uri": "https://localhost:8080/",
          "height": 215
        },
        "outputId": "3a7fe1c1-538f-4842-c579-b001e893f727"
      },
      "source": [
        "!wget https://storage.googleapis.com/bert_models/2018_10_18/uncased_L-12_H-768_A-12.zip"
      ],
      "execution_count": 89,
      "outputs": [
        {
          "output_type": "stream",
          "text": [
            "--2020-06-29 10:50:43--  https://storage.googleapis.com/bert_models/2018_10_18/uncased_L-12_H-768_A-12.zip\n",
            "Resolving storage.googleapis.com (storage.googleapis.com)... 74.125.200.128, 74.125.68.128, 172.217.194.128, ...\n",
            "Connecting to storage.googleapis.com (storage.googleapis.com)|74.125.200.128|:443... connected.\n",
            "HTTP request sent, awaiting response... 200 OK\n",
            "Length: 407727028 (389M) [application/zip]\n",
            "Saving to: ‘uncased_L-12_H-768_A-12.zip.1’\n",
            "\n",
            "uncased_L-12_H-768_ 100%[===================>] 388.84M  56.2MB/s    in 11s     \n",
            "\n",
            "2020-06-29 10:50:54 (36.3 MB/s) - ‘uncased_L-12_H-768_A-12.zip.1’ saved [407727028/407727028]\n",
            "\n"
          ],
          "name": "stdout"
        }
      ]
    },
    {
      "cell_type": "code",
      "metadata": {
        "colab_type": "code",
        "id": "zhQDZ0n_QLTS",
        "colab": {
          "base_uri": "https://localhost:8080/",
          "height": 143
        },
        "outputId": "be2639f0-20ec-4cc0-9523-5bae5aade2cf"
      },
      "source": [
        "!unzip uncased_L-12_H-768_A-12.zip"
      ],
      "execution_count": 90,
      "outputs": [
        {
          "output_type": "stream",
          "text": [
            "Archive:  uncased_L-12_H-768_A-12.zip\n",
            "   creating: uncased_L-12_H-768_A-12/\n",
            "  inflating: uncased_L-12_H-768_A-12/bert_model.ckpt.meta  \n",
            "  inflating: uncased_L-12_H-768_A-12/bert_model.ckpt.data-00000-of-00001  \n",
            "  inflating: uncased_L-12_H-768_A-12/vocab.txt  \n",
            "  inflating: uncased_L-12_H-768_A-12/bert_model.ckpt.index  \n",
            "  inflating: uncased_L-12_H-768_A-12/bert_config.json  \n"
          ],
          "name": "stdout"
        }
      ]
    },
    {
      "cell_type": "code",
      "metadata": {
        "colab_type": "code",
        "id": "2X8-CWVlQN5d",
        "colab": {
          "base_uri": "https://localhost:8080/",
          "height": 35
        },
        "outputId": "328ce0c8-7ee2-43b0-9b8e-fc85763d6a7a"
      },
      "source": [
        "os.makedirs(\"model\", exist_ok=True)\n",
        "!mv uncased_L-12_H-768_A-12/ model"
      ],
      "execution_count": 91,
      "outputs": [
        {
          "output_type": "stream",
          "text": [
            "mv: cannot move 'uncased_L-12_H-768_A-12/' to 'model/uncased_L-12_H-768_A-12': Directory not empty\n"
          ],
          "name": "stdout"
        }
      ]
    },
    {
      "cell_type": "code",
      "metadata": {
        "colab_type": "code",
        "id": "VvJ5OJwKP8TQ",
        "colab": {}
      },
      "source": [
        "bert_model_name=\"uncased_L-12_H-768_A-12\"\n",
        "\n",
        "bert_ckpt_dir = os.path.join(\"model/\", bert_model_name)\n",
        "bert_ckpt_file = os.path.join(bert_ckpt_dir, \"bert_model.ckpt\")\n",
        "bert_config_file = os.path.join(bert_ckpt_dir, \"bert_config.json\")"
      ],
      "execution_count": 92,
      "outputs": []
    },
    {
      "cell_type": "markdown",
      "metadata": {
        "id": "kEeNd9APoXME",
        "colab_type": "text"
      },
      "source": [
        "## Data Processing for Model"
      ]
    },
    {
      "cell_type": "code",
      "metadata": {
        "colab_type": "code",
        "id": "HWFAzZuBQdvw",
        "colab": {}
      },
      "source": [
        "class ProcessData:\n",
        "    DATA_COLUMN = \"text\"\n",
        "    LABEL_COLUMN = \"label\"\n",
        "\n",
        "    def __init__(self, train, test, tokenizer: FullTokenizer, classes, max_seq_len=128):\n",
        "        self.tokenizer = tokenizer\n",
        "        self.max_seq_len = 0\n",
        "        self.classes = classes\n",
        "\n",
        "        ((self.train_x, self.train_y), (self.test_x, self.test_y)) = map(self._prepare, [train, test])\n",
        "\n",
        "        print(\"max seq_len\", self.max_seq_len)\n",
        "        self.max_seq_len = min(self.max_seq_len, max_seq_len)\n",
        "        self.train_x, self.test_x = map(self._pad, [self.train_x, self.test_x])\n",
        "\n",
        "    def _prepare(self, df):\n",
        "        x, y = [], []\n",
        "    \n",
        "        for _, row in tqdm(df.iterrows()):\n",
        "            text, label = row[ProcessData.DATA_COLUMN], row[ProcessData.LABEL_COLUMN]\n",
        "            tokens = self.tokenizer.tokenize(text)\n",
        "            tokens = [\"[CLS]\"] + tokens + [\"[SEP]\"]\n",
        "            token_ids = self.tokenizer.convert_tokens_to_ids(tokens)\n",
        "            self.max_seq_len = max(self.max_seq_len, len(token_ids))\n",
        "            x.append(token_ids)\n",
        "            y.append(self.classes.index(label))\n",
        "\n",
        "        return np.array(x), np.array(y)\n",
        "\n",
        "    def _pad(self, ids):\n",
        "        x = []\n",
        "        for input_ids in ids:\n",
        "            input_ids = input_ids[:min(len(input_ids), self.max_seq_len - 2)]\n",
        "            input_ids = input_ids + [0] * (self.max_seq_len - len(input_ids))\n",
        "            x.append(np.array(input_ids))\n",
        "        return np.array(x)"
      ],
      "execution_count": 134,
      "outputs": []
    },
    {
      "cell_type": "code",
      "metadata": {
        "colab_type": "code",
        "id": "FG4bxcgIROJW",
        "colab": {}
      },
      "source": [
        "tokenizer = FullTokenizer(vocab_file=os.path.join(bert_ckpt_dir, \"vocab.txt\"))"
      ],
      "execution_count": 135,
      "outputs": []
    },
    {
      "cell_type": "code",
      "metadata": {
        "colab_type": "code",
        "id": "2DCB2dWAQxDK",
        "colab": {
          "base_uri": "https://localhost:8080/",
          "height": 71
        },
        "outputId": "787ad29f-018d-40b1-af52-85c09bdcbc0a"
      },
      "source": [
        "classes = train.label.unique().tolist()\n",
        "\n",
        "data = ProcessData(train, test, tokenizer, classes, max_seq_len=128)"
      ],
      "execution_count": 136,
      "outputs": [
        {
          "output_type": "stream",
          "text": [
            "5000it [00:17, 288.92it/s]\n",
            "5000it [00:17, 291.94it/s]\n"
          ],
          "name": "stderr"
        },
        {
          "output_type": "stream",
          "text": [
            "max seq_len 3035\n"
          ],
          "name": "stdout"
        }
      ]
    },
    {
      "cell_type": "code",
      "metadata": {
        "colab_type": "code",
        "id": "SRrdbvAiRc26",
        "colab": {
          "base_uri": "https://localhost:8080/",
          "height": 35
        },
        "outputId": "d34786d2-b883-42a6-9280-2863187f9c12"
      },
      "source": [
        "data.train_x.shape"
      ],
      "execution_count": 137,
      "outputs": [
        {
          "output_type": "execute_result",
          "data": {
            "text/plain": [
              "(5000, 128)"
            ]
          },
          "metadata": {
            "tags": []
          },
          "execution_count": 137
        }
      ]
    },
    {
      "cell_type": "code",
      "metadata": {
        "colab_type": "code",
        "id": "aKkfauJXRiLO",
        "colab": {
          "base_uri": "https://localhost:8080/",
          "height": 287
        },
        "outputId": "df942a6e-97e4-4714-8f06-f2b3a951c778"
      },
      "source": [
        "data.train_x[0]"
      ],
      "execution_count": 138,
      "outputs": [
        {
          "output_type": "execute_result",
          "data": {
            "text/plain": [
              "array([  101,  1045,  2467,  2626,  2023,  2186,  2125,  2004,  2108,\n",
              "        1037,  3143, 27136,  1011, 17037,  2138,  3958, 19337, 20668,\n",
              "        2072,  2001,  2920,  1999,  2009,  1010,  1998,  4600,  1012,\n",
              "        2021,  2059,  2028,  2154,  1037, 13800,  6433, 26897,  4158,\n",
              "        1012,  2044,  1037,  2317,  9175,  2208,  3092,  1045,  3651,\n",
              "        2008,  1996,  6556,  2001,  2035,  1996,  2126,  2006,  1996,\n",
              "        2060,  2217,  1997,  1996,  2282,  5064,  1012,  2085,  1045,\n",
              "        2071,  2031,  2074,  5407,  2039,  1998,  2939,  2408,  1996,\n",
              "        2282,  2000,  2131,  1996,  6556,  1010,  2030,  2130,  2000,\n",
              "        1996,  2694,  2000,  2735,  1996,  3149,  1012,  2021,  2059,\n",
              "        2339,  2025,  2074,  2131,  2039,  1998,  3328,  2408,  1996,\n",
              "        2406,  2000,  3422,  2694,  1999,  2178,  2110,  1029,  1000,\n",
              "       12264,  2000,  2008,  1000,  1010,  1045,  2056,  1012,  2061,\n",
              "        1045,  2787,  2000,  2074,  6865,  4389,  2006,  1996,  6411,\n",
              "           0,     0])"
            ]
          },
          "metadata": {
            "tags": []
          },
          "execution_count": 138
        }
      ]
    },
    {
      "cell_type": "code",
      "metadata": {
        "colab_type": "code",
        "id": "ggddBEtmRx5E",
        "colab": {
          "base_uri": "https://localhost:8080/",
          "height": 35
        },
        "outputId": "955ae4a0-99ea-40ba-d5da-8c078061a5bf"
      },
      "source": [
        "data.train_y[0]"
      ],
      "execution_count": 139,
      "outputs": [
        {
          "output_type": "execute_result",
          "data": {
            "text/plain": [
              "0"
            ]
          },
          "metadata": {
            "tags": []
          },
          "execution_count": 139
        }
      ]
    },
    {
      "cell_type": "code",
      "metadata": {
        "colab_type": "code",
        "id": "F83nQjIkSUKW",
        "colab": {
          "base_uri": "https://localhost:8080/",
          "height": 35
        },
        "outputId": "27f84d62-10fa-449a-81c9-f105d50f3115"
      },
      "source": [
        "data.max_seq_len"
      ],
      "execution_count": 140,
      "outputs": [
        {
          "output_type": "execute_result",
          "data": {
            "text/plain": [
              "128"
            ]
          },
          "metadata": {
            "tags": []
          },
          "execution_count": 140
        }
      ]
    },
    {
      "cell_type": "markdown",
      "metadata": {
        "id": "-LD3iZxEpJZK",
        "colab_type": "text"
      },
      "source": [
        "## Model Creation"
      ]
    },
    {
      "cell_type": "code",
      "metadata": {
        "colab_type": "code",
        "id": "Yu66Noa5QpxC",
        "colab": {}
      },
      "source": [
        "def create_model(max_seq_len, bert_ckpt_file):\n",
        "\n",
        "    with tf.io.gfile.GFile(bert_config_file, \"r\") as reader:\n",
        "        bc = StockBertConfig.from_json_string(reader.read())\n",
        "        bert_params = map_stock_config_to_params(bc)\n",
        "        bert_params.adapter_size = None\n",
        "        bert = BertModelLayer.from_params(bert_params, name=\"bert\")\n",
        "\n",
        "    input_ids = keras.layers.Input(shape=(max_seq_len, ), dtype='int32', name=\"input_ids\")\n",
        "    bert_output = bert(input_ids)\n",
        "\n",
        "    print(\"bert shape\", bert_output.shape)\n",
        "\n",
        "    cls_out = keras.layers.Lambda(lambda seq: seq[:, 0, :])(bert_output)\n",
        "    cls_out = keras.layers.Dropout(0.5)(cls_out)\n",
        "    logits = keras.layers.Dense(units=768, activation=\"tanh\")(cls_out)\n",
        "    logits = keras.layers.Dropout(0.5)(logits)\n",
        "    logits = keras.layers.Dense(units=len(classes), activation=\"softmax\")(logits)\n",
        "\n",
        "    model = keras.Model(inputs=input_ids, outputs=logits)\n",
        "    model.build(input_shape=(None, max_seq_len))\n",
        "\n",
        "    load_stock_weights(bert, bert_ckpt_file)\n",
        "\n",
        "    return model"
      ],
      "execution_count": 141,
      "outputs": []
    },
    {
      "cell_type": "code",
      "metadata": {
        "colab_type": "code",
        "id": "j6pePKuiSX87",
        "colab": {
          "base_uri": "https://localhost:8080/",
          "height": 271
        },
        "outputId": "0efc15bd-27cb-47e7-a616-003c559ecc47"
      },
      "source": [
        "model = create_model(data.max_seq_len, bert_ckpt_file)"
      ],
      "execution_count": 142,
      "outputs": [
        {
          "output_type": "stream",
          "text": [
            "bert shape (None, 128, 768)\n",
            "Done loading 196 BERT weights from: model/uncased_L-12_H-768_A-12/bert_model.ckpt into <bert.model.BertModelLayer object at 0x7fd3532df4a8> (prefix:bert_7). Count of weights not found in the checkpoint was: [0]. Count of weights with mismatched shape: [0]\n",
            "Unused weights from checkpoint: \n",
            "\tbert/embeddings/token_type_embeddings\n",
            "\tbert/pooler/dense/bias\n",
            "\tbert/pooler/dense/kernel\n",
            "\tcls/predictions/output_bias\n",
            "\tcls/predictions/transform/LayerNorm/beta\n",
            "\tcls/predictions/transform/LayerNorm/gamma\n",
            "\tcls/predictions/transform/dense/bias\n",
            "\tcls/predictions/transform/dense/kernel\n",
            "\tcls/seq_relationship/output_bias\n",
            "\tcls/seq_relationship/output_weights\n"
          ],
          "name": "stdout"
        }
      ]
    },
    {
      "cell_type": "code",
      "metadata": {
        "colab_type": "code",
        "id": "AVuC4Lr2SdRd",
        "colab": {
          "base_uri": "https://localhost:8080/",
          "height": 413
        },
        "outputId": "aa83ba40-2575-4659-c2dd-c59937f5fcd6"
      },
      "source": [
        "model.summary()"
      ],
      "execution_count": 143,
      "outputs": [
        {
          "output_type": "stream",
          "text": [
            "Model: \"model_5\"\n",
            "_________________________________________________________________\n",
            "Layer (type)                 Output Shape              Param #   \n",
            "=================================================================\n",
            "input_ids (InputLayer)       [(None, 128)]             0         \n",
            "_________________________________________________________________\n",
            "bert (BertModelLayer)        (None, 128, 768)          108890112 \n",
            "_________________________________________________________________\n",
            "lambda_5 (Lambda)            (None, 768)               0         \n",
            "_________________________________________________________________\n",
            "dropout_10 (Dropout)         (None, 768)               0         \n",
            "_________________________________________________________________\n",
            "dense_10 (Dense)             (None, 768)               590592    \n",
            "_________________________________________________________________\n",
            "dropout_11 (Dropout)         (None, 768)               0         \n",
            "_________________________________________________________________\n",
            "dense_11 (Dense)             (None, 2)                 1538      \n",
            "=================================================================\n",
            "Total params: 109,482,242\n",
            "Trainable params: 109,482,242\n",
            "Non-trainable params: 0\n",
            "_________________________________________________________________\n"
          ],
          "name": "stdout"
        }
      ]
    },
    {
      "cell_type": "code",
      "metadata": {
        "colab_type": "code",
        "id": "IdJyn191Sf3u",
        "colab": {}
      },
      "source": [
        "model.compile(\n",
        "  optimizer=keras.optimizers.Adam(1e-5),\n",
        "  loss=keras.losses.SparseCategoricalCrossentropy(from_logits=True),\n",
        "  metrics=[keras.metrics.SparseCategoricalAccuracy(name=\"acc\")]\n",
        ")\n"
      ],
      "execution_count": 144,
      "outputs": []
    },
    {
      "cell_type": "markdown",
      "metadata": {
        "id": "R5JYflwrpRCY",
        "colab_type": "text"
      },
      "source": [
        "## Creating checkpoints and training Model"
      ]
    },
    {
      "cell_type": "code",
      "metadata": {
        "id": "cZnwEAeepMpQ",
        "colab_type": "code",
        "colab": {}
      },
      "source": [
        "checkpoint_path = \"training/cp.ckpt\"\n",
        "checkpoint_dir = os.path.dirname(checkpoint_path)\n",
        "# model.load_weights(checkpoint_path)\n",
        "cp_callback = tf.keras.callbacks.ModelCheckpoint(filepath=checkpoint_path,\n",
        "                                                 save_weights_only=True,\n",
        "                                                 verbose=1)"
      ],
      "execution_count": 145,
      "outputs": []
    },
    {
      "cell_type": "code",
      "metadata": {
        "colab_type": "code",
        "id": "ruQBlelmSjzk",
        "colab": {
          "base_uri": "https://localhost:8080/",
          "height": 737
        },
        "outputId": "739897ff-2565-4b32-fb6c-f8150efd5403"
      },
      "source": [
        "# log_dir = \"log/intent_detection/\" + datetime.datetime.now().strftime(\"%Y%m%d-%H%M%s\")\n",
        "# tensorboard_callback = keras.callbacks.TensorBoard(log_dir=log_dir)\n",
        "\n",
        "\n",
        "# Create a callback that saves the model's weights\n",
        "\n",
        "\n",
        "history = model.fit(\n",
        "  x=data.train_x, \n",
        "  y=data.train_y,\n",
        "  validation_split=0.1,\n",
        "  batch_size=16,\n",
        "  shuffle=True,\n",
        "  epochs=10,\n",
        "  callbacks=[cp_callback]\n",
        ")\n",
        "model.save_weights('./training/cp.ckpt')"
      ],
      "execution_count": 148,
      "outputs": [
        {
          "output_type": "stream",
          "text": [
            "Epoch 1/10\n",
            "282/282 [==============================] - ETA: 0s - loss: 0.5429 - acc: 0.7522\n",
            "Epoch 00001: saving model to training/cp.ckpt\n",
            "282/282 [==============================] - 228s 807ms/step - loss: 0.5429 - acc: 0.7522 - val_loss: 0.4752 - val_acc: 0.8280\n",
            "Epoch 2/10\n",
            "282/282 [==============================] - ETA: 0s - loss: 0.4683 - acc: 0.8371\n",
            "Epoch 00002: saving model to training/cp.ckpt\n",
            "282/282 [==============================] - 226s 800ms/step - loss: 0.4683 - acc: 0.8371 - val_loss: 0.4817 - val_acc: 0.8240\n",
            "Epoch 3/10\n",
            "282/282 [==============================] - ETA: 0s - loss: 0.4270 - acc: 0.8851\n",
            "Epoch 00003: saving model to training/cp.ckpt\n",
            "282/282 [==============================] - 225s 799ms/step - loss: 0.4270 - acc: 0.8851 - val_loss: 0.4584 - val_acc: 0.8480\n",
            "Epoch 4/10\n",
            "282/282 [==============================] - ETA: 0s - loss: 0.4068 - acc: 0.9044\n",
            "Epoch 00004: saving model to training/cp.ckpt\n",
            "282/282 [==============================] - 225s 799ms/step - loss: 0.4068 - acc: 0.9044 - val_loss: 0.4400 - val_acc: 0.8720\n",
            "Epoch 5/10\n",
            "282/282 [==============================] - ETA: 0s - loss: 0.3941 - acc: 0.9171\n",
            "Epoch 00005: saving model to training/cp.ckpt\n",
            "282/282 [==============================] - 225s 798ms/step - loss: 0.3941 - acc: 0.9171 - val_loss: 0.4482 - val_acc: 0.8620\n",
            "Epoch 6/10\n",
            "282/282 [==============================] - ETA: 0s - loss: 0.3903 - acc: 0.9198\n",
            "Epoch 00006: saving model to training/cp.ckpt\n",
            "282/282 [==============================] - 224s 793ms/step - loss: 0.3903 - acc: 0.9198 - val_loss: 0.4564 - val_acc: 0.8500\n",
            "Epoch 7/10\n",
            "282/282 [==============================] - ETA: 0s - loss: 0.3816 - acc: 0.9300\n",
            "Epoch 00007: saving model to training/cp.ckpt\n",
            "282/282 [==============================] - 222s 788ms/step - loss: 0.3816 - acc: 0.9300 - val_loss: 0.4533 - val_acc: 0.8560\n",
            "Epoch 8/10\n",
            "282/282 [==============================] - ETA: 0s - loss: 0.3783 - acc: 0.9347\n",
            "Epoch 00008: saving model to training/cp.ckpt\n",
            "282/282 [==============================] - 223s 791ms/step - loss: 0.3783 - acc: 0.9347 - val_loss: 0.4681 - val_acc: 0.8420\n",
            "Epoch 9/10\n",
            "282/282 [==============================] - ETA: 0s - loss: 0.3738 - acc: 0.9400\n",
            "Epoch 00009: saving model to training/cp.ckpt\n",
            "282/282 [==============================] - 223s 792ms/step - loss: 0.3738 - acc: 0.9400 - val_loss: 0.4381 - val_acc: 0.8720\n",
            "Epoch 10/10\n",
            "282/282 [==============================] - ETA: 0s - loss: 0.3647 - acc: 0.9478\n",
            "Epoch 00010: saving model to training/cp.ckpt\n",
            "282/282 [==============================] - 224s 793ms/step - loss: 0.3647 - acc: 0.9478 - val_loss: 0.4462 - val_acc: 0.8640\n"
          ],
          "name": "stdout"
        }
      ]
    },
    {
      "cell_type": "markdown",
      "metadata": {
        "id": "dEtw2_LMruau",
        "colab_type": "text"
      },
      "source": [
        "## Load model from Saved weights"
      ]
    },
    {
      "cell_type": "code",
      "metadata": {
        "id": "GmEBVLBDpMpV",
        "colab_type": "code",
        "colab": {}
      },
      "source": [
        "# model = create_model(data.max_seq_len, bert_ckpt_file)\n",
        "# model.compile(\n",
        "#   optimizer=keras.optimizers.Adam(1e-5),\n",
        "#   loss=keras.losses.SparseCategoricalCrossentropy(from_logits=True),\n",
        "#   metrics=[keras.metrics.SparseCategoricalAccuracy(name=\"acc\")]\n",
        "# )\n",
        "\n",
        "# model.load_weights('./training/cp.ckpt')"
      ],
      "execution_count": 149,
      "outputs": []
    },
    {
      "cell_type": "markdown",
      "metadata": {
        "id": "ezs-ezmqpZTK",
        "colab_type": "text"
      },
      "source": [
        "## Analyzing Results"
      ]
    },
    {
      "cell_type": "code",
      "metadata": {
        "colab_type": "code",
        "id": "yFw7KjiITCDw",
        "colab": {
          "base_uri": "https://localhost:8080/",
          "height": 295
        },
        "outputId": "fda07bd9-fb3e-4abe-fb59-16a9020b6be5"
      },
      "source": [
        "ax = plt.figure().gca()\n",
        "ax.xaxis.set_major_locator(MaxNLocator(integer=True))\n",
        "\n",
        "ax.plot(history.history['loss'])\n",
        "ax.plot(history.history['val_loss'])\n",
        "plt.ylabel('Loss')\n",
        "plt.xlabel('Epoch')\n",
        "plt.legend(['train', 'valid'])\n",
        "plt.title('Loss over training epochs')\n",
        "plt.show()"
      ],
      "execution_count": 150,
      "outputs": [
        {
          "output_type": "display_data",
          "data": {
            "image/png": "[encoded data removed]",
            "text/plain": [
              "<Figure size 432x288 with 1 Axes>"
            ]
          },
          "metadata": {
            "tags": [],
            "needs_background": "light"
          }
        }
      ]
    },
    {
      "cell_type": "code",
      "metadata": {
        "colab_type": "code",
        "id": "XpfnCYY0TFT4",
        "colab": {
          "base_uri": "https://localhost:8080/",
          "height": 295
        },
        "outputId": "a12f3f6a-cb93-436b-b3f6-4e448cab1dee"
      },
      "source": [
        "ax = plt.figure().gca()\n",
        "ax.xaxis.set_major_locator(MaxNLocator(integer=True))\n",
        "\n",
        "ax.plot(history.history['acc'])\n",
        "ax.plot(history.history['val_acc'])\n",
        "plt.ylabel('Accuracy')\n",
        "plt.xlabel('Epoch')\n",
        "plt.legend(['train', 'valid'])\n",
        "plt.title('Accuracy over training epochs')\n",
        "plt.show();"
      ],
      "execution_count": 151,
      "outputs": [
        {
          "output_type": "display_data",
          "data": {
            "image/png": "[encoded data removed]",
            "text/plain": [
              "<Figure size 432x288 with 1 Axes>"
            ]
          },
          "metadata": {
            "tags": [],
            "needs_background": "light"
          }
        }
      ]
    },
    {
      "cell_type": "markdown",
      "metadata": {
        "id": "XNtHdsqEpgIL",
        "colab_type": "text"
      },
      "source": [
        "## Prediction on Test data"
      ]
    },
    {
      "cell_type": "code",
      "metadata": {
        "colab_type": "code",
        "id": "2BsfsNfPTKL3",
        "colab": {
          "base_uri": "https://localhost:8080/",
          "height": 89
        },
        "outputId": "ac8a202c-769c-4c52-85e1-4dbeee1748a7"
      },
      "source": [
        "_, train_acc = model.evaluate(data.train_x, data.train_y)\n",
        "_, test_acc = model.evaluate(data.test_x, data.test_y)\n",
        "\n",
        "print(\"Train acc\", train_acc)\n",
        "print(\"Test acc\", test_acc)"
      ],
      "execution_count": 152,
      "outputs": [
        {
          "output_type": "stream",
          "text": [
            "157/157 [==============================] - 59s 374ms/step - loss: 0.3637 - acc: 0.9490\n",
            "157/157 [==============================] - 56s 359ms/step - loss: 0.4637 - acc: 0.8474\n",
            "Train acc 0.9490000009536743\n",
            "Test acc 0.8474000096321106\n"
          ],
          "name": "stdout"
        }
      ]
    },
    {
      "cell_type": "code",
      "metadata": {
        "colab_type": "code",
        "id": "5Hn48vqGTPuQ",
        "colab": {}
      },
      "source": [
        "y_pred = model.predict(data.test_x).argmax(axis=-1)\n",
        "# y_pred"
      ],
      "execution_count": 153,
      "outputs": []
    },
    {
      "cell_type": "code",
      "metadata": {
        "id": "ABA3PMkYW8Rk",
        "colab_type": "code",
        "colab": {}
      },
      "source": [
        "# data.test_y"
      ],
      "execution_count": 154,
      "outputs": []
    },
    {
      "cell_type": "code",
      "metadata": {
        "colab_type": "code",
        "id": "-XHf-qRRTVEL",
        "colab": {
          "base_uri": "https://localhost:8080/",
          "height": 179
        },
        "outputId": "fe94487f-2796-4abc-ad0c-0d50e95d9c0a"
      },
      "source": [
        "print(classification_report(data.test_y, y_pred, target_names=['neg', 'pos']))"
      ],
      "execution_count": 155,
      "outputs": [
        {
          "output_type": "stream",
          "text": [
            "              precision    recall  f1-score   support\n",
            "\n",
            "         neg       0.82      0.89      0.85      2486\n",
            "         pos       0.88      0.80      0.84      2514\n",
            "\n",
            "    accuracy                           0.85      5000\n",
            "   macro avg       0.85      0.85      0.85      5000\n",
            "weighted avg       0.85      0.85      0.85      5000\n",
            "\n"
          ],
          "name": "stdout"
        }
      ]
    },
    {
      "cell_type": "code",
      "metadata": {
        "colab_type": "code",
        "id": "8KMXzH_sTaML",
        "colab": {}
      },
      "source": [
        "cm = confusion_matrix(data.test_y, y_pred)\n",
        "df_cm = pd.DataFrame(cm, index=classes, columns=classes)"
      ],
      "execution_count": 156,
      "outputs": []
    },
    {
      "cell_type": "code",
      "metadata": {
        "colab_type": "code",
        "id": "gCZeDmE7Tc0V",
        "colab": {
          "base_uri": "https://localhost:8080/",
          "height": 297
        },
        "outputId": "8c18cc00-a24c-468c-d125-2f2b3c790c82"
      },
      "source": [
        "hmap = sns.heatmap(df_cm, annot=True, fmt=\"d\")\n",
        "hmap.yaxis.set_ticklabels(hmap.yaxis.get_ticklabels())\n",
        "hmap.xaxis.set_ticklabels(hmap.xaxis.get_ticklabels())\n",
        "plt.ylabel('True label')\n",
        "plt.xlabel('Predicted label')"
      ],
      "execution_count": 157,
      "outputs": [
        {
          "output_type": "execute_result",
          "data": {
            "text/plain": [
              "Text(0.5, 15.0, 'Predicted label')"
            ]
          },
          "metadata": {
            "tags": []
          },
          "execution_count": 157
        },
        {
          "output_type": "display_data",
          "data": {
            "image/png": "[encoded data removed]",
            "text/plain": [
              "<Figure size 432x288 with 2 Axes>"
            ]
          },
          "metadata": {
            "tags": [],
            "needs_background": "light"
          }
        }
      ]
    },
    {
      "cell_type": "markdown",
      "metadata": {
        "id": "yf6ta6qtpwWb",
        "colab_type": "text"
      },
      "source": [
        "## Prediction on some self-created Movie reviews"
      ]
    },
    {
      "cell_type": "code",
      "metadata": {
        "colab_type": "code",
        "id": "qcl_FuEMTm1q",
        "colab": {
          "base_uri": "https://localhost:8080/",
          "height": 739
        },
        "outputId": "e0226ad0-beb0-439e-d7d4-0c2ae7bc6c3f"
      },
      "source": [
        "sentences = [\n",
        "  \"While Followed won’t lead you to any conclusions that you can’t get reach by yourself, it’s sometimes fun getting there anyway.\",\n",
        "  \"An astonishingly beautiful coming-of-age story of startling specificity and intense intimacy, yet universal in its compassionate depiction of a child's perspective dawning on mature self-awareness.\",\n",
        "  \"There is not a moment of dialogue that feels spontaneous or genuine.\",\n",
        "  \"Once Yummy kicks off its apocalypse by introducing this patient zero, that’s when things start to get really bad.\",\n",
        "  \"The film might be set in another time and deals with hatred of a specific kind, it feels prescient for the here and the now because hate hasn’t quite died amongst us\",\n",
        "  \"On the whole Race 3 is not entirely unentertaining but it is majorly disappointing.\",\n",
        "  \"I saw it in 2007 for the first time and since then it is undoubtedly one of my favorite movie.\",\n",
        "  \"It does get preachy and you find yourself shifting in your seats a lot towards the final scene, but the movie wins you over with its innocence and simplicity.\",\n",
        "  \"\",\n",
        "  \"Lots of hype and expectations proving to be just a sham\",\n",
        "  \"Delivers as expected from the studio that brought you Star Trek.\",\n",
        "  \"No words to express\",\n",
        "  \" Absolutely awesome!!\"\n",
        "]\n",
        "\n",
        "pred_tokens = map(tokenizer.tokenize, sentences)\n",
        "pred_tokens = map(lambda tok: [\"[CLS]\"] + tok + [\"[SEP]\"], pred_tokens)\n",
        "pred_token_ids = list(map(tokenizer.convert_tokens_to_ids, pred_tokens))\n",
        "\n",
        "pred_token_ids = map(lambda tids: tids +[0]*(data.max_seq_len-len(tids)),pred_token_ids)\n",
        "pred_token_ids = np.array(list(pred_token_ids))\n",
        "\n",
        "predictions = model.predict(pred_token_ids).argmax(axis=-1)\n",
        "\n",
        "target_class = ['negative', 'positive']\n",
        "for text, label in zip(sentences, predictions):\n",
        "    print(\"text:\", text, \"\\nlabel:\", target_class[label])\n",
        "    print()"
      ],
      "execution_count": 159,
      "outputs": [
        {
          "output_type": "stream",
          "text": [
            "text: While Followed won’t lead you to any conclusions that you can’t get reach by yourself, it’s sometimes fun getting there anyway. \n",
            "label: positive\n",
            "\n",
            "text: An astonishingly beautiful coming-of-age story of startling specificity and intense intimacy, yet universal in its compassionate depiction of a child's perspective dawning on mature self-awareness. \n",
            "label: positive\n",
            "\n",
            "text: There is not a moment of dialogue that feels spontaneous or genuine. \n",
            "label: negative\n",
            "\n",
            "text: Once Yummy kicks off its apocalypse by introducing this patient zero, that’s when things start to get really bad. \n",
            "label: negative\n",
            "\n",
            "text: The film might be set in another time and deals with hatred of a specific kind, it feels prescient for the here and the now because hate hasn’t quite died amongst us \n",
            "label: positive\n",
            "\n",
            "text: On the whole Race 3 is not entirely unentertaining but it is majorly disappointing. \n",
            "label: negative\n",
            "\n",
            "text: I saw it in 2007 for the first time and since then it is undoubtedly one of my favorite movie. \n",
            "label: positive\n",
            "\n",
            "text: It does get preachy and you find yourself shifting in your seats a lot towards the final scene, but the movie wins you over with its innocence and simplicity. \n",
            "label: positive\n",
            "\n",
            "text:  \n",
            "label: positive\n",
            "\n",
            "text: Lots of hype and expectations proving to be just a sham \n",
            "label: negative\n",
            "\n",
            "text: Delivers as expected from the studio that brought you Star Trek. \n",
            "label: positive\n",
            "\n",
            "text: No words to express \n",
            "label: negative\n",
            "\n",
            "text:  Absolutely awesome!! \n",
            "label: positive\n",
            "\n"
          ],
          "name": "stdout"
        }
      ]
    }
  ]
}