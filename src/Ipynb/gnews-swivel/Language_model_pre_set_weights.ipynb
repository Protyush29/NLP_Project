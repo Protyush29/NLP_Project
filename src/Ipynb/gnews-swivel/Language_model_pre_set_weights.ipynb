{
 "cells": [
  {
   "cell_type": "code",
   "execution_count": 4,
   "metadata": {},
   "outputs": [],
   "source": [
    "import numpy as np\n",
    "\n",
    "import tensorflow as tf\n",
    "import tensorflow_hub as hub\n",
    "import pandas as pd\n",
    "\n",
    "import matplotlib.pyplot as plt"
   ]
  },
  {
   "cell_type": "code",
   "execution_count": 2,
   "metadata": {},
   "outputs": [
    {
     "name": "stdout",
     "output_type": "stream",
     "text": [
      "2.2.0\n",
      "0.8.0\n"
     ]
    }
   ],
   "source": [
    "print(tf.__version__)\n",
    "print(hub.__version__)"
   ]
  },
  {
   "cell_type": "code",
   "execution_count": 58,
   "metadata": {},
   "outputs": [],
   "source": [
    "def getting_data(file_name):\n",
    "    Data = pd.read_csv(file_name)\n",
    "    Text, labels = Data['text'].to_numpy(),Data['label'].to_numpy()\n",
    "    return Text, labels\n"
   ]
  },
  {
   "cell_type": "code",
   "execution_count": 59,
   "metadata": {},
   "outputs": [],
   "source": [
    "Train_examples, Train_labels = getting_data('Train.csv')\n",
    "Valid_examples, Valid_labels = getting_data('Valid.csv')"
   ]
  },
  {
   "cell_type": "code",
   "execution_count": 60,
   "metadata": {},
   "outputs": [],
   "source": [
    "# fetch_model = \"https://tfhub.dev/google/tf2-preview/gnews-swivel-20dim/1\"\n",
    "\n",
    "# hub_layer = hub.KerasLayer(fetch_model, output_shape=[20], input_shape=[], \n",
    "#                            dtype=tf.string, trainable=True)"
   ]
  },
  {
   "cell_type": "code",
   "execution_count": 61,
   "metadata": {},
   "outputs": [
    {
     "name": "stdout",
     "output_type": "stream",
     "text": [
      "Model: \"sequential_3\"\n",
      "_________________________________________________________________\n",
      "Layer (type)                 Output Shape              Param #   \n",
      "=================================================================\n",
      "keras_layer_3 (KerasLayer)   (None, 20)                400020    \n",
      "_________________________________________________________________\n",
      "dense_4 (Dense)              (None, 16)                336       \n",
      "_________________________________________________________________\n",
      "dense_5 (Dense)              (None, 1)                 17        \n",
      "=================================================================\n",
      "Total params: 400,373\n",
      "Trainable params: 400,373\n",
      "Non-trainable params: 0\n",
      "_________________________________________________________________\n"
     ]
    }
   ],
   "source": [
    "# model = tf.keras.Sequential()\n",
    "# model.add(hub_layer)\n",
    "# model.add(tf.keras.layers.Dense(16, activation='relu'))\n",
    "# model.add(tf.keras.layers.Dense(1))\n",
    "\n",
    "# model.summary()"
   ]
  },
  {
   "cell_type": "code",
   "execution_count": 69,
   "metadata": {},
   "outputs": [],
   "source": [
    "# model.compile(optimizer='adam',\n",
    "#               loss=tf.losses.BinaryCrossentropy(from_logits=True),\n",
    "#               metrics=['accuracy'])\n",
    "\n",
    "def create_model():\n",
    "    fetch_model = \"https://tfhub.dev/google/tf2-preview/gnews-swivel-20dim/1\"\n",
    "    hub_layer = hub.KerasLayer(fetch_model, output_shape=[20], input_shape=[], dtype=tf.string, trainable=True)\n",
    "    model = tf.keras.Sequential()\n",
    "    model.add(hub_layer)\n",
    "    model.add(tf.keras.layers.Dense(16, activation='relu'))\n",
    "    model.add(tf.keras.layers.Dense(1))\n",
    "#     model.summary()\n",
    "    model.compile(optimizer='adam',loss=tf.losses.BinaryCrossentropy(from_logits=True),\n",
    "              metrics=['accuracy'])\n",
    "\n",
    "    return model\n",
    "              \n",
    "model = create_model()"
   ]
  },
  {
   "cell_type": "code",
   "execution_count": 63,
   "metadata": {},
   "outputs": [],
   "source": [
    "import os\n",
    "checkpoint_path = \"training_1/cp.ckpt\"\n",
    "checkpoint_dir = os.path.dirname(checkpoint_path)\n",
    "\n",
    "# Create a callback that saves the model's weights\n",
    "cp_callback = tf.keras.callbacks.ModelCheckpoint(filepath=checkpoint_path,\n",
    "                                                 save_weights_only=True,\n",
    "                                                 verbose=1)"
   ]
  },
  {
   "cell_type": "code",
   "execution_count": 64,
   "metadata": {
    "scrolled": false
   },
   "outputs": [
    {
     "name": "stdout",
     "output_type": "stream",
     "text": [
      "Epoch 1/40\n",
      "77/79 [============================>.] - ETA: 0s - accuracy: 0.5589 - loss: 0.7343\n",
      "Epoch 00001: saving model to training_1/cp.ckpt\n",
      "79/79 [==============================] - 2s 31ms/step - accuracy: 0.5601 - loss: 0.7322 - val_accuracy: 0.6810 - val_loss: 0.5790\n",
      "Epoch 2/40\n",
      "77/79 [============================>.] - ETA: 0s - accuracy: 0.7358 - loss: 0.5071\n",
      "Epoch 00002: saving model to training_1/cp.ckpt\n",
      "79/79 [==============================] - 2s 31ms/step - accuracy: 0.7366 - loss: 0.5061 - val_accuracy: 0.7612 - val_loss: 0.4616\n",
      "Epoch 3/40\n",
      "77/79 [============================>.] - ETA: 0s - accuracy: 0.8053 - loss: 0.4076\n",
      "Epoch 00003: saving model to training_1/cp.ckpt\n",
      "79/79 [==============================] - 2s 31ms/step - accuracy: 0.8058 - loss: 0.4070 - val_accuracy: 0.8090 - val_loss: 0.3907\n",
      "Epoch 4/40\n",
      "77/79 [============================>.] - ETA: 0s - accuracy: 0.8468 - loss: 0.3397\n",
      "Epoch 00004: saving model to training_1/cp.ckpt\n",
      "79/79 [==============================] - 2s 31ms/step - accuracy: 0.8469 - loss: 0.3392 - val_accuracy: 0.8464 - val_loss: 0.3440\n",
      "Epoch 5/40\n",
      "77/79 [============================>.] - ETA: 0s - accuracy: 0.8729 - loss: 0.2925\n",
      "Epoch 00005: saving model to training_1/cp.ckpt\n",
      "79/79 [==============================] - 2s 31ms/step - accuracy: 0.8730 - loss: 0.2921 - val_accuracy: 0.8576 - val_loss: 0.3152\n",
      "Epoch 6/40\n",
      "77/79 [============================>.] - ETA: 0s - accuracy: 0.8900 - loss: 0.2586\n",
      "Epoch 00006: saving model to training_1/cp.ckpt\n",
      "79/79 [==============================] - 2s 31ms/step - accuracy: 0.8899 - loss: 0.2589 - val_accuracy: 0.8742 - val_loss: 0.2992\n",
      "Epoch 7/40\n",
      "77/79 [============================>.] - ETA: 0s - accuracy: 0.9030 - loss: 0.2350\n",
      "Epoch 00007: saving model to training_1/cp.ckpt\n",
      "79/79 [==============================] - 2s 32ms/step - accuracy: 0.9033 - loss: 0.2346 - val_accuracy: 0.8776 - val_loss: 0.2863\n",
      "Epoch 8/40\n",
      "77/79 [============================>.] - ETA: 0s - accuracy: 0.9115 - loss: 0.2153\n",
      "Epoch 00008: saving model to training_1/cp.ckpt\n",
      "79/79 [==============================] - 2s 31ms/step - accuracy: 0.9113 - loss: 0.2153 - val_accuracy: 0.8834 - val_loss: 0.2817\n",
      "Epoch 9/40\n",
      "77/79 [============================>.] - ETA: 0s - accuracy: 0.9204 - loss: 0.1999\n",
      "Epoch 00009: saving model to training_1/cp.ckpt\n",
      "79/79 [==============================] - 2s 31ms/step - accuracy: 0.9201 - loss: 0.2003 - val_accuracy: 0.8844 - val_loss: 0.2776\n",
      "Epoch 10/40\n",
      "77/79 [============================>.] - ETA: 0s - accuracy: 0.9258 - loss: 0.1870\n",
      "Epoch 00010: saving model to training_1/cp.ckpt\n",
      "79/79 [==============================] - 2s 31ms/step - accuracy: 0.9255 - loss: 0.1873 - val_accuracy: 0.8866 - val_loss: 0.2816\n",
      "Epoch 11/40\n",
      "77/79 [============================>.] - ETA: 0s - accuracy: 0.9300 - loss: 0.1772\n",
      "Epoch 00011: saving model to training_1/cp.ckpt\n",
      "79/79 [==============================] - 2s 31ms/step - accuracy: 0.9300 - loss: 0.1774 - val_accuracy: 0.8792 - val_loss: 0.2751\n",
      "Epoch 12/40\n",
      "77/79 [============================>.] - ETA: 0s - accuracy: 0.9350 - loss: 0.1668\n",
      "Epoch 00012: saving model to training_1/cp.ckpt\n",
      "79/79 [==============================] - 2s 31ms/step - accuracy: 0.9349 - loss: 0.1671 - val_accuracy: 0.8866 - val_loss: 0.2781\n",
      "Epoch 13/40\n",
      "77/79 [============================>.] - ETA: 0s - accuracy: 0.9396 - loss: 0.1573\n",
      "Epoch 00013: saving model to training_1/cp.ckpt\n",
      "79/79 [==============================] - 2s 31ms/step - accuracy: 0.9395 - loss: 0.1575 - val_accuracy: 0.8860 - val_loss: 0.2786\n",
      "Epoch 14/40\n",
      "77/79 [============================>.] - ETA: 0s - accuracy: 0.9429 - loss: 0.1495\n",
      "Epoch 00014: saving model to training_1/cp.ckpt\n",
      "79/79 [==============================] - 2s 30ms/step - accuracy: 0.9427 - loss: 0.1497 - val_accuracy: 0.8800 - val_loss: 0.2812\n",
      "Epoch 15/40\n",
      "77/79 [============================>.] - ETA: 0s - accuracy: 0.9454 - loss: 0.1441\n",
      "Epoch 00015: saving model to training_1/cp.ckpt\n",
      "79/79 [==============================] - 2s 31ms/step - accuracy: 0.9455 - loss: 0.1436 - val_accuracy: 0.8850 - val_loss: 0.2857\n",
      "Epoch 16/40\n",
      "77/79 [============================>.] - ETA: 0s - accuracy: 0.9500 - loss: 0.1363\n",
      "Epoch 00016: saving model to training_1/cp.ckpt\n",
      "79/79 [==============================] - 2s 31ms/step - accuracy: 0.9502 - loss: 0.1361 - val_accuracy: 0.8874 - val_loss: 0.2922\n",
      "Epoch 17/40\n",
      "77/79 [============================>.] - ETA: 0s - accuracy: 0.9511 - loss: 0.1315\n",
      "Epoch 00017: saving model to training_1/cp.ckpt\n",
      "79/79 [==============================] - 2s 31ms/step - accuracy: 0.9510 - loss: 0.1316 - val_accuracy: 0.8876 - val_loss: 0.3059\n",
      "Epoch 18/40\n",
      "77/79 [============================>.] - ETA: 0s - accuracy: 0.9551 - loss: 0.1240\n",
      "Epoch 00018: saving model to training_1/cp.ckpt\n",
      "79/79 [==============================] - 2s 31ms/step - accuracy: 0.9550 - loss: 0.1244 - val_accuracy: 0.8838 - val_loss: 0.3020\n",
      "Epoch 19/40\n",
      "77/79 [============================>.] - ETA: 0s - accuracy: 0.9574 - loss: 0.1201\n",
      "Epoch 00019: saving model to training_1/cp.ckpt\n",
      "79/79 [==============================] - 2s 31ms/step - accuracy: 0.9575 - loss: 0.1199 - val_accuracy: 0.8844 - val_loss: 0.3105\n",
      "Epoch 20/40\n",
      "77/79 [============================>.] - ETA: 0s - accuracy: 0.9601 - loss: 0.1134\n",
      "Epoch 00020: saving model to training_1/cp.ckpt\n",
      "79/79 [==============================] - 3s 32ms/step - accuracy: 0.9601 - loss: 0.1133 - val_accuracy: 0.8824 - val_loss: 0.3163\n",
      "Epoch 21/40\n",
      "77/79 [============================>.] - ETA: 0s - accuracy: 0.9625 - loss: 0.1085\n",
      "Epoch 00021: saving model to training_1/cp.ckpt\n",
      "79/79 [==============================] - 2s 31ms/step - accuracy: 0.9625 - loss: 0.1085 - val_accuracy: 0.8782 - val_loss: 0.3215\n",
      "Epoch 22/40\n",
      "77/79 [============================>.] - ETA: 0s - accuracy: 0.9649 - loss: 0.1040\n",
      "Epoch 00022: saving model to training_1/cp.ckpt\n",
      "79/79 [==============================] - 3s 32ms/step - accuracy: 0.9647 - loss: 0.1042 - val_accuracy: 0.8846 - val_loss: 0.3496\n",
      "Epoch 23/40\n",
      "77/79 [============================>.] - ETA: 0s - accuracy: 0.9663 - loss: 0.1005\n",
      "Epoch 00023: saving model to training_1/cp.ckpt\n",
      "79/79 [==============================] - 2s 31ms/step - accuracy: 0.9662 - loss: 0.1006 - val_accuracy: 0.8810 - val_loss: 0.3427\n",
      "Epoch 24/40\n",
      "77/79 [============================>.] - ETA: 0s - accuracy: 0.9689 - loss: 0.0944\n",
      "Epoch 00024: saving model to training_1/cp.ckpt\n",
      "79/79 [==============================] - 2s 31ms/step - accuracy: 0.9688 - loss: 0.0948 - val_accuracy: 0.8822 - val_loss: 0.3502\n",
      "Epoch 25/40\n",
      "77/79 [============================>.] - ETA: 0s - accuracy: 0.9707 - loss: 0.0908\n",
      "Epoch 00025: saving model to training_1/cp.ckpt\n",
      "79/79 [==============================] - 2s 31ms/step - accuracy: 0.9704 - loss: 0.0909 - val_accuracy: 0.8770 - val_loss: 0.3573\n",
      "Epoch 26/40\n",
      "77/79 [============================>.] - ETA: 0s - accuracy: 0.9719 - loss: 0.0876\n",
      "Epoch 00026: saving model to training_1/cp.ckpt\n",
      "79/79 [==============================] - 2s 31ms/step - accuracy: 0.9720 - loss: 0.0874 - val_accuracy: 0.8772 - val_loss: 0.3681\n",
      "Epoch 27/40\n",
      "77/79 [============================>.] - ETA: 0s - accuracy: 0.9738 - loss: 0.0835\n",
      "Epoch 00027: saving model to training_1/cp.ckpt\n",
      "79/79 [==============================] - 2s 31ms/step - accuracy: 0.9737 - loss: 0.0835 - val_accuracy: 0.8778 - val_loss: 0.3811\n",
      "Epoch 28/40\n",
      "77/79 [============================>.] - ETA: 0s - accuracy: 0.9751 - loss: 0.0794\n",
      "Epoch 00028: saving model to training_1/cp.ckpt\n",
      "79/79 [==============================] - 2s 31ms/step - accuracy: 0.9750 - loss: 0.0797 - val_accuracy: 0.8750 - val_loss: 0.3901\n",
      "Epoch 29/40\n",
      "77/79 [============================>.] - ETA: 0s - accuracy: 0.9771 - loss: 0.0764\n",
      "Epoch 00029: saving model to training_1/cp.ckpt\n",
      "79/79 [==============================] - 2s 30ms/step - accuracy: 0.9772 - loss: 0.0762 - val_accuracy: 0.8742 - val_loss: 0.3999\n",
      "Epoch 30/40\n",
      "77/79 [============================>.] - ETA: 0s - accuracy: 0.9781 - loss: 0.0733\n",
      "Epoch 00030: saving model to training_1/cp.ckpt\n",
      "79/79 [==============================] - 2s 31ms/step - accuracy: 0.9779 - loss: 0.0736 - val_accuracy: 0.8710 - val_loss: 0.4125\n",
      "Epoch 31/40\n"
     ]
    },
    {
     "name": "stdout",
     "output_type": "stream",
     "text": [
      "77/79 [============================>.] - ETA: 0s - accuracy: 0.9791 - loss: 0.0701\n",
      "Epoch 00031: saving model to training_1/cp.ckpt\n",
      "79/79 [==============================] - 2s 31ms/step - accuracy: 0.9792 - loss: 0.0699 - val_accuracy: 0.8746 - val_loss: 0.4347\n",
      "Epoch 32/40\n",
      "77/79 [============================>.] - ETA: 0s - accuracy: 0.9811 - loss: 0.0662\n",
      "Epoch 00032: saving model to training_1/cp.ckpt\n",
      "79/79 [==============================] - 2s 30ms/step - accuracy: 0.9811 - loss: 0.0662 - val_accuracy: 0.8742 - val_loss: 0.4497\n",
      "Epoch 33/40\n",
      "77/79 [============================>.] - ETA: 0s - accuracy: 0.9821 - loss: 0.0641\n",
      "Epoch 00033: saving model to training_1/cp.ckpt\n",
      "79/79 [==============================] - 2s 30ms/step - accuracy: 0.9822 - loss: 0.0641 - val_accuracy: 0.8686 - val_loss: 0.4485\n",
      "Epoch 34/40\n",
      "77/79 [============================>.] - ETA: 0s - accuracy: 0.9829 - loss: 0.0608\n",
      "Epoch 00034: saving model to training_1/cp.ckpt\n",
      "79/79 [==============================] - 2s 31ms/step - accuracy: 0.9829 - loss: 0.0609 - val_accuracy: 0.8712 - val_loss: 0.4642\n",
      "Epoch 35/40\n",
      "77/79 [============================>.] - ETA: 0s - accuracy: 0.9848 - loss: 0.0577\n",
      "Epoch 00035: saving model to training_1/cp.ckpt\n",
      "79/79 [==============================] - 2s 30ms/step - accuracy: 0.9849 - loss: 0.0576 - val_accuracy: 0.8658 - val_loss: 0.4755\n",
      "Epoch 36/40\n",
      "77/79 [============================>.] - ETA: 0s - accuracy: 0.9852 - loss: 0.0556\n",
      "Epoch 00036: saving model to training_1/cp.ckpt\n",
      "79/79 [==============================] - 2s 30ms/step - accuracy: 0.9852 - loss: 0.0555 - val_accuracy: 0.8706 - val_loss: 0.4990\n",
      "Epoch 37/40\n",
      "77/79 [============================>.] - ETA: 0s - accuracy: 0.9870 - loss: 0.0523\n",
      "Epoch 00037: saving model to training_1/cp.ckpt\n",
      "79/79 [==============================] - 2s 31ms/step - accuracy: 0.9870 - loss: 0.0524 - val_accuracy: 0.8698 - val_loss: 0.5117\n",
      "Epoch 38/40\n",
      "77/79 [============================>.] - ETA: 0s - accuracy: 0.9879 - loss: 0.0502\n",
      "Epoch 00038: saving model to training_1/cp.ckpt\n",
      "79/79 [==============================] - 2s 30ms/step - accuracy: 0.9879 - loss: 0.0503 - val_accuracy: 0.8704 - val_loss: 0.5359\n",
      "Epoch 39/40\n",
      "77/79 [============================>.] - ETA: 0s - accuracy: 0.9888 - loss: 0.0475\n",
      "Epoch 00039: saving model to training_1/cp.ckpt\n",
      "79/79 [==============================] - 2s 30ms/step - accuracy: 0.9887 - loss: 0.0476 - val_accuracy: 0.8666 - val_loss: 0.5376\n",
      "Epoch 40/40\n",
      "77/79 [============================>.] - ETA: 0s - accuracy: 0.9898 - loss: 0.0450\n",
      "Epoch 00040: saving model to training_1/cp.ckpt\n",
      "79/79 [==============================] - 2s 31ms/step - accuracy: 0.9897 - loss: 0.0451 - val_accuracy: 0.8654 - val_loss: 0.5524\n"
     ]
    }
   ],
   "source": [
    "\n",
    "\n",
    "# Train the model with the new callback\n",
    "# Pass callback to training\n",
    "\n",
    "# This may generate warnings related to saving the state of the optimizer.\n",
    "# These warnings (and similar warnings throughout this notebook)\n",
    "# are in place to discourage outdated usage, and can be ignored.\n",
    "\n",
    "\n",
    "history = model.fit(Train_examples,\n",
    "                    Train_labels,\n",
    "                    epochs=40,\n",
    "                    batch_size=512,\n",
    "                    validation_data=(Valid_examples, Valid_labels),\n",
    "                    callbacks=[cp_callback],)"
   ]
  },
  {
   "cell_type": "code",
   "execution_count": 70,
   "metadata": {},
   "outputs": [
    {
     "data": {
      "text/plain": [
       "<tensorflow.python.training.tracking.util.CheckpointLoadStatus at 0x7f5a0856fdd8>"
      ]
     },
     "execution_count": 70,
     "metadata": {},
     "output_type": "execute_result"
    }
   ],
   "source": [
    "model.load_weights(checkpoint_path)"
   ]
  },
  {
   "cell_type": "code",
   "execution_count": 72,
   "metadata": {},
   "outputs": [
    {
     "name": "stdout",
     "output_type": "stream",
     "text": [
      "157/157 [==============================] - 0s 2ms/step - accuracy: 0.8582 - loss: 0.5618\n",
      "Restored model, accuracy: 85.82%\n"
     ]
    }
   ],
   "source": [
    "Test_examples, Test_labels = getting_data('Test.csv')\n",
    "\n",
    "# Restore the weights\n",
    "model.load_weights(checkpoint_path)\n",
    "\n",
    "# Evaluate the model\n",
    "loss,acc = model.evaluate(Test_examples, Test_labels)\n",
    "print(\"Restored model, accuracy: {:5.2f}%\".format(100*acc))"
   ]
  },
  {
   "cell_type": "code",
   "execution_count": 73,
   "metadata": {},
   "outputs": [
    {
     "name": "stdout",
     "output_type": "stream",
     "text": [
      "157/157 [==============================] - 0s 3ms/step - accuracy: 0.8582 - loss: 0.5618\n",
      "[0.5617563724517822, 0.8582000136375427]\n"
     ]
    }
   ],
   "source": [
    "results = model.evaluate(Test_examples, Test_labels)\n",
    "\n",
    "print(results)"
   ]
  },
  {
   "cell_type": "code",
   "execution_count": 41,
   "metadata": {},
   "outputs": [
    {
     "data": {
      "text/plain": [
       "dict_keys(['accuracy', 'loss', 'val_accuracy', 'val_loss'])"
      ]
     },
     "execution_count": 41,
     "metadata": {},
     "output_type": "execute_result"
    }
   ],
   "source": [
    "history_dict = history.history\n",
    "history_dict.keys()"
   ]
  },
  {
   "cell_type": "code",
   "execution_count": 75,
   "metadata": {},
   "outputs": [
    {
     "data": {
      "image/png": "[encoded data removed]",
      "text/plain": [
       "<Figure size 432x288 with 1 Axes>"
      ]
     },
     "metadata": {
      "needs_background": "light"
     },
     "output_type": "display_data"
    }
   ],
   "source": [
    "acc = history_dict['accuracy']\n",
    "val_acc = history_dict['val_accuracy']\n",
    "loss = history_dict['loss']\n",
    "val_loss = history_dict['val_loss']\n",
    "\n",
    "epochs = range(1, len(acc) + 1)\n",
    "\n",
    "# \"bo\" is for \"blue dot\"\n",
    "plt.plot(epochs, loss, 'bo', label='Training loss')\n",
    "# b is for \"solid blue line\"\n",
    "plt.plot(epochs, val_loss, 'b', label='Validation loss')\n",
    "plt.title('Training and validation loss')\n",
    "plt.xlabel('Epochs')\n",
    "plt.ylabel('Loss')\n",
    "plt.legend()\n",
    "\n",
    "plt.show()"
   ]
  },
  {
   "cell_type": "code",
   "execution_count": 76,
   "metadata": {},
   "outputs": [
    {
     "data": {
      "image/png": "[encoded data removed]",
      "text/plain": [
       "<Figure size 432x288 with 1 Axes>"
      ]
     },
     "metadata": {
      "needs_background": "light"
     },
     "output_type": "display_data"
    }
   ],
   "source": [
    "plt.plot(epochs, acc, 'bo', label='Training acc')\n",
    "plt.plot(epochs, val_acc, 'b', label='Validation acc')\n",
    "plt.title('Training and validation accuracy')\n",
    "plt.xlabel('Epochs')\n",
    "plt.ylabel('Accuracy')\n",
    "plt.legend()\n",
    "\n",
    "plt.show()"
   ]
  }
 ],
 "metadata": {
  "kernelspec": {
   "display_name": "Python 3",
   "language": "python",
   "name": "python3"
  },
  "language_info": {
   "codemirror_mode": {
    "name": "ipython",
    "version": 3
   },
   "file_extension": ".py",
   "mimetype": "text/x-python",
   "name": "python",
   "nbconvert_exporter": "python",
   "pygments_lexer": "ipython3",
   "version": "3.5.2"
  }
 },
 "nbformat": 4,
 "nbformat_minor": 2
}
